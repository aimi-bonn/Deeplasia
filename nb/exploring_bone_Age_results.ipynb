{
 "cells": [
  {
   "cell_type": "code",
   "execution_count": null,
   "metadata": {},
   "outputs": [],
   "source": [
    "import numpy as np\n",
    "import pandas as pd\n",
    "import plotly.express as px"
   ]
  },
  {
   "cell_type": "code",
   "execution_count": null,
   "metadata": {},
   "outputs": [],
   "source": [
    "data=pd.read_csv(\"annotation_with_bone_age.csv\", sep=',', header=0)"
   ]
  },
  {
   "cell_type": "code",
   "execution_count": null,
   "metadata": {},
   "outputs": [],
   "source": [
    "data.head()"
   ]
  },
  {
   "cell_type": "code",
   "execution_count": null,
   "metadata": {},
   "outputs": [],
   "source": [
    "data.keys()"
   ]
  },
  {
   "cell_type": "code",
   "execution_count": null,
   "metadata": {},
   "outputs": [],
   "source": [
    "data_round=data.round({'Y': 0, 'Y_hat': 0})"
   ]
  },
  {
   "cell_type": "markdown",
   "metadata": {},
   "source": [
    "# Plotting"
   ]
  },
  {
   "cell_type": "code",
   "execution_count": null,
   "metadata": {},
   "outputs": [],
   "source": [
    "import os\n",
    "html_fig_name='Bone_Age_Predictions.html'\n",
    "os.remove(html_fig_name)\n",
    "\n",
    "labels={\"sex\": \"Sex\", 'Y': 'Chronological Age (months)', 'Y_hat': 'Predicted Bone Age (months)', 'disorder':'Disorder', 'patient_ID':'Patient ID'}\n",
    "\n",
    "category_names=['Ullrich-Turner', 'Hypochondroplasia', 'Pseudohypoparathyroidism', 'Noonan', 'Healthy', 'Silver-Russel', 'Achondroplasia', 'Intrauterine Growth Restriction', 'SHOX Mutation']\n",
    "\n",
    "\n",
    "\n",
    "\n",
    "###########\n",
    "\n",
    "fig2 = px.scatter(data_round, x=\"Y\", y=\"Y_hat\", hover_data=['patient_ID','disorder', 'sex'], color='disorder', opacity=0.9, width=900, height=600, labels=labels, title='Figure 1: Predicted Bone Age vs. Chronological Age (Color code: Disorder)')\n",
    "\n",
    "fig2.update_traces(marker=dict(size=7),\n",
    "                  selector=dict(mode='markers'))\n",
    "\n",
    "fig2.add_shape(type=\"line\",\n",
    "              x0=0, \n",
    "              y0=0, \n",
    "              x1=240, \n",
    "              y1=240, opacity=0.4)\n",
    "\n",
    "fig2.update_layout(yaxis_range=[0,240],xaxis_range=[0,240])\n",
    "\n",
    "fig2.write_image(\"bone_age_vs_chronological_age.jpg\", scale=2.0)\n",
    "fig2.show()\n",
    "\n",
    "\n",
    "\n",
    "###########\n",
    "\n",
    "\n",
    "fig1 = px.scatter(data_round, x=\"Y\", y=\"Y_hat\", hover_data=['patient_ID','disorder', 'sex'], color=\"sex\", width=800, height=600, labels=labels, title='Figure 2: Predicted Bone Age vs. Chronological Age (Color code: Sex)')\n",
    "\n",
    "fig1.add_shape(type=\"line\",\n",
    "              x0=0, \n",
    "              y0=0, \n",
    "              x1=240, \n",
    "              y1=240, opacity=0.4)\n",
    "\n",
    "fig1.update_layout(yaxis_range=[0,240],xaxis_range=[0,240])\n",
    "\n",
    "fig1.show()\n",
    "\n",
    "with open(html_fig_name, 'a') as f:\n",
    "    f.write(fig2.to_html(full_html=False, include_plotlyjs='cdn'))\n",
    "    f.write(fig1.to_html(full_html=False, include_plotlyjs='cdn'))"
   ]
  },
  {
   "cell_type": "code",
   "execution_count": null,
   "metadata": {},
   "outputs": [],
   "source": [
    "data.keys()"
   ]
  },
  {
   "cell_type": "code",
   "execution_count": null,
   "metadata": {},
   "outputs": [],
   "source": [
    "fig2 = px.scatter(data, x=\"Y\", y='masked_effnet-b4_shallow_pretr_fancy_aug', hover_data=['patient_ID','disorder', 'sex'], color='sex', opacity=0.9, width=900, height=600, labels=labels)\n",
    "\n",
    "fig2.update_traces(marker=dict(size=7),\n",
    "                  selector=dict(mode='markers'))\n",
    "\n",
    "fig2.add_shape(type=\"line\",\n",
    "              x0=0, \n",
    "              y0=0, \n",
    "              x1=240, \n",
    "              y1=240, opacity=0.4)\n",
    "\n",
    "fig2.update_layout(yaxis_range=[0,240],xaxis_range=[0,240])\n",
    "\n",
    "fig2.show()"
   ]
  },
  {
   "cell_type": "markdown",
   "metadata": {},
   "source": [
    "# Preparing the Table"
   ]
  },
  {
   "cell_type": "code",
   "execution_count": null,
   "metadata": {},
   "outputs": [],
   "source": [
    "data_2_report=data_round[['patient_ID','acquisition_date','disorder', 'sex','chronological_age','Y_hat']]"
   ]
  },
  {
   "cell_type": "code",
   "execution_count": null,
   "metadata": {},
   "outputs": [],
   "source": [
    "data_2_report=data_2_report.rename(columns={'Y_hat': 'predicted_bone_age'})"
   ]
  },
  {
   "cell_type": "code",
   "execution_count": null,
   "metadata": {},
   "outputs": [],
   "source": [
    "data_2_report.to_csv('bone_age_predictions_2share.csv', index=False)"
   ]
  },
  {
   "cell_type": "code",
   "execution_count": null,
   "metadata": {},
   "outputs": [],
   "source": []
  }
 ],
 "metadata": {
  "kernelspec": {
   "display_name": "Python 3",
   "language": "python",
   "name": "python3"
  },
  "language_info": {
   "codemirror_mode": {
    "name": "ipython",
    "version": 3
   },
   "file_extension": ".py",
   "mimetype": "text/x-python",
   "name": "python",
   "nbconvert_exporter": "python",
   "pygments_lexer": "ipython3",
   "version": "3.8.5"
  }
 },
 "nbformat": 4,
 "nbformat_minor": 4
}
