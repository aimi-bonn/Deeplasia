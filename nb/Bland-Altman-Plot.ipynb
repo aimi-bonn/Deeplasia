{
 "cells": [
  {
   "cell_type": "code",
   "execution_count": null,
   "metadata": {},
   "outputs": [],
   "source": [
    "import numpy as np\n",
    "import pandas as pd\n",
    "import plotly.express as px"
   ]
  },
  {
   "cell_type": "code",
   "execution_count": null,
   "metadata": {},
   "outputs": [],
   "source": [
    "data=pd.read_csv(\"220112_bone_age_predictions_2share_CN_dataKM.csv\", sep=';', header=0, na_filter=False,na_values = 'null')"
   ]
  },
  {
   "cell_type": "code",
   "execution_count": null,
   "metadata": {},
   "outputs": [],
   "source": [
    "data.keys()"
   ]
  },
  {
   "cell_type": "code",
   "execution_count": null,
   "metadata": {},
   "outputs": [],
   "source": [
    "data['measured_bone_age']=pd.to_numeric(data['measured_bone_age'])"
   ]
  },
  {
   "cell_type": "code",
   "execution_count": null,
   "metadata": {},
   "outputs": [],
   "source": [
    "fig1 = px.scatter(data, x='measured_bone_age', y='predicted_bone_age', hover_data=['patient_ID','disorder', 'sex'], color=\"sex\", \n",
    "                  width=800, height=600)#, title='Figure 2: Predicted Bone Age vs. Chronological Age (Color code: Sex)')\n",
    "\n",
    "fig1.add_shape(type=\"line\",\n",
    "              x0=0, \n",
    "              y0=0, \n",
    "              x1=260, \n",
    "              y1=260, opacity=0.4)\n",
    "\n",
    "fig1.update_layout(yaxis_range=[0,260],xaxis_range=[0,260])\n",
    "\n",
    "fig1.show()"
   ]
  },
  {
   "cell_type": "code",
   "execution_count": null,
   "metadata": {},
   "outputs": [],
   "source": [
    "difference=data['predicted_bone_age']-data['measured_bone_age']"
   ]
  },
  {
   "cell_type": "code",
   "execution_count": null,
   "metadata": {},
   "outputs": [],
   "source": [
    "print(np.std(difference))\n",
    "print(np.mean(difference))"
   ]
  },
  {
   "cell_type": "code",
   "execution_count": null,
   "metadata": {},
   "outputs": [],
   "source": [
    "import plotly.graph_objects as go\n",
    "difference=data['predicted_bone_age']-data['measured_bone_age']\n",
    "labels={\"sex\": \"Sex\"}\n",
    "\n",
    "fig1 = px.scatter(data, x=(data['predicted_bone_age']+data['measured_bone_age'])/2,y=difference, hover_data=['patient_ID','disorder', 'sex'], color=\"sex\", \n",
    "                  width=800, height=600, title='Bland–Altman Plot For Deep Learning (DL) and Visual Methods', labels=labels)\n",
    "\n",
    "\n",
    "# conf interval\n",
    "fig1.add_shape(type=\"line\",\n",
    "              x0=0, \n",
    "              y0=1.96*np.std(difference), \n",
    "              x1=260, \n",
    "              y1=1.96*np.std(difference), line_dash=\"dash\")\n",
    "\n",
    "fig1.add_shape(type=\"line\",\n",
    "              x0=0, \n",
    "              y0=-1.96*np.std(difference), \n",
    "              x1=260, \n",
    "              y1=-1.96*np.std(difference), line_dash=\"dash\")\n",
    "\n",
    "\n",
    "fig1.add_shape(type=\"line\",\n",
    "              x0=0, \n",
    "              y0=0, \n",
    "              x1=260, \n",
    "              y1=0)\n",
    "\n",
    "fig1.add_shape(type=\"line\",\n",
    "              x0=0, \n",
    "              y0=np.mean(difference), \n",
    "              x1=260, \n",
    "              y1=np.mean(difference), line_dash=\"dot\")\n",
    "\n",
    "\n",
    "fig1.add_annotation(x=240, y=2.2*np.std(difference),\n",
    "            text=\"+1.96 SD\",\n",
    "            showarrow=False,\n",
    "            yshift=1)\n",
    "\n",
    "fig1.add_annotation(x=240, y=-2.2*np.std(difference),\n",
    "            text=\"-1.96 SD\",\n",
    "            showarrow=False,\n",
    "            yshift=-1)\n",
    "\n",
    "fig1.add_annotation(x=228, y=np.mean(difference),\n",
    "            text=\"Mean Diff.= 15.1 months\",\n",
    "            showarrow=False,\n",
    "            yshift=10)\n",
    "\n",
    "fig1.update_layout(yaxis_range=[-60,60],xaxis_range=[0,260])\n",
    "\n",
    "fig1.update_xaxes(title_text='Average of DL & Visual (months)')\n",
    "fig1.update_yaxes(title_text='DL - Visual (months)')\n",
    "\n",
    "fig1.write_image(\"Bland_Altman.jpg\", scale=3.0)\n",
    "fig1.show()"
   ]
  },
  {
   "cell_type": "code",
   "execution_count": null,
   "metadata": {},
   "outputs": [],
   "source": [
    "import numpy as np\n",
    "print(np.mean(data['predicted_bone_age']-data['measured_bone_age']))"
   ]
  },
  {
   "cell_type": "code",
   "execution_count": null,
   "metadata": {},
   "outputs": [],
   "source": [
    "fig1 = px.scatter(data, x='chronological_age', y='measured_bone_age', hover_data=['patient_ID','disorder', 'sex'], color=\"sex\", \n",
    "                  width=800, height=600)#, title='Figure 2: Predicted Bone Age vs. Chronological Age (Color code: Sex)')\n",
    "\n",
    "fig1.add_shape(type=\"line\",\n",
    "              x0=0, \n",
    "              y0=0, \n",
    "              x1=260, \n",
    "              y1=260, opacity=0.4)\n",
    "\n",
    "fig1.update_layout(yaxis_range=[0,260],xaxis_range=[0,260])\n",
    "\n",
    "fig1.show()"
   ]
  },
  {
   "cell_type": "code",
   "execution_count": null,
   "metadata": {},
   "outputs": [],
   "source": [
    "import plotly.graph_objects as go\n",
    "difference=data['predicted_bone_age']-data['measured_bone_age']\n",
    "labels={\"sex\": \"Sex\", 'disorder':'Disorder'}\n",
    "\n",
    "text='Bland–Altman Plot for Deep Learning (DL) and Visual Bone Age Results for Different Disorders'\n",
    "\n",
    "fig1 = px.scatter(data, x=(data['predicted_bone_age']+data['measured_bone_age'])/2,y=difference, hover_data=['patient_ID','disorder', 'sex'], color=\"disorder\", \n",
    "                  width=1000, height=700, title=text, labels=labels)\n",
    "\n",
    "\n",
    "fig1.update_layout(margin=dict(l=100, r=300))\n",
    "\n",
    "\n",
    "# conf interval\n",
    "fig1.add_shape(type=\"line\",\n",
    "              x0=0, \n",
    "              y0=1.96*np.std(difference), \n",
    "              x1=270, \n",
    "              y1=1.96*np.std(difference), line_dash=\"dash\")\n",
    "\n",
    "fig1.add_shape(type=\"line\",\n",
    "              x0=0, \n",
    "              y0=-1.96*np.std(difference), \n",
    "              x1=270, \n",
    "              y1=-1.96*np.std(difference), line_dash=\"dash\")\n",
    "\n",
    "\n",
    "fig1.add_shape(type=\"line\",\n",
    "              x0=0, \n",
    "              y0=0, \n",
    "              x1=270, \n",
    "              y1=0)\n",
    "\n",
    "fig1.add_shape(type=\"line\",\n",
    "              x0=0, \n",
    "              y0=np.mean(difference), \n",
    "              x1=270, \n",
    "              y1=np.mean(difference), line_dash=\"dot\")\n",
    "\n",
    "\n",
    "fig1.add_annotation(x=240, y=2.2*np.std(difference),\n",
    "            text=\"+1.96 SD\",\n",
    "            showarrow=False,\n",
    "            yshift=1)\n",
    "\n",
    "fig1.add_annotation(x=240, y=-2.2*np.std(difference),\n",
    "            text=\"-1.96 SD\",\n",
    "            showarrow=False,\n",
    "            yshift=-1)\n",
    "\n",
    "fig1.add_annotation(x=228, y=np.mean(difference),\n",
    "            text=\"Mean Diff.= 15.1 months\",\n",
    "            showarrow=False,\n",
    "            yshift=10)\n",
    "\n",
    "\n",
    "### outside the plot annotaions\n",
    "fig1.add_annotation(text=\"Click on the disorder's names above to add\",\n",
    "                  xref=\"paper\", yref=\"paper\",\n",
    "                  x=1.445, y=0.5, showarrow=False) \n",
    "\n",
    "fig1.add_annotation(text=\"or remove the corresponding data points\",\n",
    "                  xref=\"paper\", yref=\"paper\",\n",
    "                  x=1.425, y=0.47, showarrow=False)\n",
    "\n",
    "fig1.add_annotation(text=\"(e.g. remove all but one).\",\n",
    "                  xref=\"paper\", yref=\"paper\",\n",
    "                  x=1.275, y=0.44, showarrow=False)\n",
    "####################\n",
    "\n",
    "\n",
    "\n",
    "fig1.update_layout(yaxis_range=[-60,60],xaxis_range=[0,270])\n",
    "\n",
    "fig1.update_xaxes(title_text='Average of DL & Visual (months)')\n",
    "fig1.update_yaxes(title_text='DL - Visual (months)')\n",
    "\n",
    "# fig1.write_image(\"Bland_Altman_color_disorders.jpg\", scale=3.0)\n",
    "fig1.write_html(\"Bland_Altman_color_disorders.html\")\n",
    "fig1.show()\n"
   ]
  },
  {
   "cell_type": "code",
   "execution_count": null,
   "metadata": {},
   "outputs": [],
   "source": []
  }
 ],
 "metadata": {
  "kernelspec": {
   "display_name": "Python 3",
   "language": "python",
   "name": "python3"
  },
  "language_info": {
   "codemirror_mode": {
    "name": "ipython",
    "version": 3
   },
   "file_extension": ".py",
   "mimetype": "text/x-python",
   "name": "python",
   "nbconvert_exporter": "python",
   "pygments_lexer": "ipython3",
   "version": "3.8.5"
  }
 },
 "nbformat": 4,
 "nbformat_minor": 4
}
