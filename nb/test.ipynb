{
 "cells": [
  {
   "cell_type": "code",
   "execution_count": 13,
   "metadata": {
    "collapsed": true
   },
   "outputs": [
    {
     "ename": "ImportError",
     "evalue": "cannot import name 'constants' from 'lib' (unknown location)",
     "output_type": "error",
     "traceback": [
      "\u001B[1;31m---------------------------------------------------------------------------\u001B[0m",
      "\u001B[1;31mImportError\u001B[0m                               Traceback (most recent call last)",
      "\u001B[1;32m~\\AppData\\Local\\Temp/ipykernel_9524/2206864344.py\u001B[0m in \u001B[0;36m<module>\u001B[1;34m\u001B[0m\n\u001B[0;32m      1\u001B[0m \u001B[1;32mimport\u001B[0m \u001B[0msys\u001B[0m\u001B[1;33m\u001B[0m\u001B[1;33m\u001B[0m\u001B[0m\n\u001B[0;32m      2\u001B[0m \u001B[0msys\u001B[0m\u001B[1;33m.\u001B[0m\u001B[0mpath\u001B[0m\u001B[1;33m.\u001B[0m\u001B[0mappend\u001B[0m\u001B[1;33m(\u001B[0m\u001B[1;34m\"..\"\u001B[0m\u001B[1;33m)\u001B[0m\u001B[1;33m\u001B[0m\u001B[1;33m\u001B[0m\u001B[0m\n\u001B[1;32m----> 3\u001B[1;33m \u001B[1;32mfrom\u001B[0m \u001B[0mlib\u001B[0m \u001B[1;32mimport\u001B[0m \u001B[0mconstants\u001B[0m\u001B[1;33m\u001B[0m\u001B[1;33m\u001B[0m\u001B[0m\n\u001B[0m",
      "\u001B[1;31mImportError\u001B[0m: cannot import name 'constants' from 'lib' (unknown location)"
     ]
    }
   ],
   "source": [
    "import sys\n",
    "sys.path.append(\"..\")\n",
    "from lib import constants"
   ]
  },
  {
   "cell_type": "code",
   "execution_count": 14,
   "outputs": [
    {
     "data": {
      "text/plain": "['C:\\\\Users\\\\sebas\\\\Documents\\\\Hand XRay project\\\\bone2gene\\\\bone_age\\\\nb',\n 'C:\\\\Users\\\\sebas\\\\Documents\\\\Hand XRay project\\\\bone2gene',\n 'C:\\\\Users\\\\sebas\\\\.conda\\\\envs\\\\bone2gene\\\\python39.zip',\n 'C:\\\\Users\\\\sebas\\\\.conda\\\\envs\\\\bone2gene\\\\DLLs',\n 'C:\\\\Users\\\\sebas\\\\.conda\\\\envs\\\\bone2gene\\\\lib',\n 'C:\\\\Users\\\\sebas\\\\.conda\\\\envs\\\\bone2gene',\n '',\n 'C:\\\\Users\\\\sebas\\\\.conda\\\\envs\\\\bone2gene\\\\lib\\\\site-packages',\n 'C:\\\\Users\\\\sebas\\\\.conda\\\\envs\\\\bone2gene\\\\lib\\\\site-packages\\\\win32',\n 'C:\\\\Users\\\\sebas\\\\.conda\\\\envs\\\\bone2gene\\\\lib\\\\site-packages\\\\win32\\\\lib',\n 'C:\\\\Users\\\\sebas\\\\.conda\\\\envs\\\\bone2gene\\\\lib\\\\site-packages\\\\Pythonwin',\n 'C:\\\\Users\\\\sebas\\\\.conda\\\\envs\\\\bone2gene\\\\lib\\\\site-packages\\\\IPython\\\\extensions',\n 'C:\\\\Users\\\\sebas\\\\.ipython',\n 'C:\\\\Program Files\\\\JetBrains\\\\PyCharm1\\\\plugins\\\\python\\\\helpers\\\\pydev',\n 'C:\\\\Program Files\\\\JetBrains\\\\PyCharm1\\\\plugins\\\\python\\\\helpers-pro\\\\jupyter_debug',\n '..',\n '..',\n '..',\n '..',\n '..',\n '..',\n '..',\n '..',\n '..',\n '..']"
     },
     "execution_count": 14,
     "metadata": {},
     "output_type": "execute_result"
    }
   ],
   "source": [
    "sys.path.appen(\"\")"
   ],
   "metadata": {
    "collapsed": false,
    "pycharm": {
     "name": "#%%\n"
    }
   }
  },
  {
   "cell_type": "code",
   "execution_count": null,
   "outputs": [],
   "source": [],
   "metadata": {
    "collapsed": false,
    "pycharm": {
     "name": "#%%"
    }
   }
  }
 ],
 "metadata": {
  "kernelspec": {
   "display_name": "Python 3",
   "language": "python",
   "name": "python3"
  },
  "language_info": {
   "codemirror_mode": {
    "name": "ipython",
    "version": 2
   },
   "file_extension": ".py",
   "mimetype": "text/x-python",
   "name": "python",
   "nbconvert_exporter": "python",
   "pygments_lexer": "ipython2",
   "version": "2.7.6"
  }
 },
 "nbformat": 4,
 "nbformat_minor": 0
}