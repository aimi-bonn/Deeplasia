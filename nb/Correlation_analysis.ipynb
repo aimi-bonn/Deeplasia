{
 "cells": [
  {
   "cell_type": "code",
   "execution_count": null,
   "metadata": {},
   "outputs": [],
   "source": [
    "import pandas as pd\n",
    "import numpy as np\n",
    "import matplotlib.pyplot as plt"
   ]
  },
  {
   "cell_type": "code",
   "execution_count": null,
   "metadata": {},
   "outputs": [],
   "source": [
    "def simulate_ensemble(dfs, key):\n",
    "    return np.stack([df[key].values for df in dfs]).mean(axis=0)\n",
    "\n",
    "def combine_predictions(names, key, set_name=\"validation\", verbose=True):\n",
    "    paths = [f\"../output/{name}/version_0/predictions/{set_name}_pred.csv\" for name in names]\n",
    "    dfs = [pd.read_csv(x) for x in paths]\n",
    "    y_hat = simulate_ensemble(dfs, key)\n",
    "    mad = np.linalg.norm(y_hat - dfs[0][\"y\"], 1) / len(dfs[0])\n",
    "    \n",
    "    if len(names) == 2:\n",
    "        plt.figure()\n",
    "        plt.scatter(dfs[0][key] - dfs[0][\"y\"], dfs[1][key] - dfs[1][\"y\"])\n",
    "        plt.show()\n",
    "    \n",
    "    if verbose:\n",
    "        print(\"mad wo ensembles:\")\n",
    "        for name, df in zip(names, dfs):\n",
    "            tmp = np.linalg.norm(df[key] - df[\"y\"], 1) / len(df)\n",
    "            print(f\"{name}:  {tmp:.4f}\")\n",
    "        print(f\"ensemble MAD: {mad:.4f}\")\n",
    "    \n",
    "    return mad, y_hat"
   ]
  },
  {
   "cell_type": "code",
   "execution_count": null,
   "metadata": {},
   "outputs": [],
   "source": [
    "mad, y_hat = combine_predictions([\n",
    "    \"masked_effnet_highRes_fancy_aug\",\n",
    "    \"masked_effnet_fancy_aug\"], \"y_hat_reg\",)"
   ]
  },
  {
   "cell_type": "code",
   "execution_count": null,
   "metadata": {},
   "outputs": [],
   "source": [
    "mad, y_hat = combine_predictions([\n",
    "    \"effnet_highRes\",\n",
    "    \"effnet_base\",], \"y_hat_reg\")"
   ]
  },
  {
   "cell_type": "code",
   "execution_count": null,
   "metadata": {},
   "outputs": [],
   "source": [
    "mad, y_hat = combine_predictions([\n",
    "    \"masked_effnet_fancy_aug\",\n",
    "    \"masked_effnet_shallow_fancy_aug\"], \"y_hat_reg\")"
   ]
  },
  {
   "cell_type": "code",
   "execution_count": null,
   "metadata": {},
   "outputs": [],
   "source": [
    "mad, y_hat = combine_predictions([\n",
    "    \"masked_effnet_fancy_aug\",\n",
    "    \"masked_effnet_super_shallow_fancy_aug\"], \"y_hat_reg\")"
   ]
  },
  {
   "cell_type": "code",
   "execution_count": null,
   "metadata": {},
   "outputs": [],
   "source": [
    "mad, y_hat = combine_predictions([\n",
    "    \"masked_effnet-b4_fancy_aug\",\n",
    "    \"masked_effnet-b4_shallow_fancy_aug\"], \"y_hat_reg_tta\", \"validation\")"
   ]
  },
  {
   "cell_type": "code",
   "execution_count": null,
   "metadata": {},
   "outputs": [],
   "source": [
    "mad, y_hat = combine_predictions([\n",
    "    \"masked_incept_batchsize_128_fancy_aug\",\n",
    "    \"masked_effnet_fancy_aug\"], \"y_hat_reg_tta\")"
   ]
  },
  {
   "cell_type": "code",
   "execution_count": null,
   "metadata": {},
   "outputs": [],
   "source": [
    "mad, y_hat = combine_predictions([\n",
    "#     \"masked_effnet_base\",\n",
    "    \"masked_effnet_fancy_aug\",\n",
    "#     \"masked_incept_shallow_fancy_aug\",\n",
    "#     \"masked_effnet_batchsize_128_fancy_aug\",\n",
    "#      \"masked_incept_batchsize_128_fancy_aug\",\n",
    "#     \"masked_effnet_shallow_fancy_aug\",\n",
    "#     \"masked_effnet_fancy_aug_swa\",\n",
    "    \"masked_effnet_super_shallow_fancy_aug\",\n",
    "    \"masked_effnet_highRes_fancy_aug\",\n",
    "    \"masked_effnet-b4_shallow_pretr_fancy_aug\",\n",
    "    \"masked_incept_batchsize_128_fancy_aug\"\n",
    "], \"y_hat_reg\", \"validation\")"
   ]
  },
  {
   "cell_type": "code",
   "execution_count": null,
   "metadata": {},
   "outputs": [],
   "source": [
    "mad, y_hat_m = combine_predictions([\n",
    "    \"masked_effnet_fancy_aug\",\n",
    "    \"masked_effnet_super_shallow_fancy_aug\",\n",
    "    \"masked_effnet_highRes_fancy_aug\",\n",
    "    \"masked_effnet-b4_shallow_pretr_fancy_aug\",\n",
    "    \"masked_incept_batchsize_128_fancy_aug\"\n",
    "], \"y_hat_reg\", \"test\")"
   ]
  },
  {
   "cell_type": "code",
   "execution_count": null,
   "metadata": {},
   "outputs": [],
   "source": [
    "mad, y_hat = combine_predictions([\n",
    "    \"effnet_fancy_aug\",\n",
    "#     \"effnet_fancy_aug_swa\",\n",
    "    \"effnet_super_shallow_fancy_aug\",\n",
    "#     \"masked_effnet_highRes_fancy_aug\",  # Todo high res\n",
    "    \"effnet-b4_shallow_pretr_fancy_aug\",\n",
    "#     \"incept_batchsize_128_fancy_aug\",\n",
    "], \"y_hat_reg\", \"validation\")"
   ]
  },
  {
   "cell_type": "code",
   "execution_count": null,
   "metadata": {},
   "outputs": [],
   "source": [
    "mad, y_hat_u = combine_predictions([\n",
    "    \"effnet_fancy_aug\",\n",
    "    \"effnet_fancy_aug_swa\",\n",
    "    \"effnet_super_shallow_fancy_aug\",\n",
    "#     \"masked_effnet_highRes_fancy_aug\",  # Todo high res\n",
    "    \"effnet-b4_shallow_pretr_fancy_aug\"\n",
    "], \"y_hat_reg\", \"test\")"
   ]
  },
  {
   "cell_type": "code",
   "execution_count": null,
   "metadata": {},
   "outputs": [],
   "source": [
    "y_hat = (y_hat_u + y_hat_m) / 2\n",
    "y = pd.read_csv(\"../output/effnet_base/version_0/predictions/test_pred.csv\")[\"y\"]\n",
    "np.linalg.norm(y_hat - y, 1) / len(y)"
   ]
  },
  {
   "cell_type": "code",
   "execution_count": null,
   "metadata": {},
   "outputs": [],
   "source": []
  }
 ],
 "metadata": {
  "kernelspec": {
   "display_name": "Python 3 (ipykernel)",
   "language": "python",
   "name": "python3"
  },
  "language_info": {
   "codemirror_mode": {
    "name": "ipython",
    "version": 3
   },
   "file_extension": ".py",
   "mimetype": "text/x-python",
   "name": "python",
   "nbconvert_exporter": "python",
   "pygments_lexer": "ipython3",
   "version": "3.9.7"
  }
 },
 "nbformat": 4,
 "nbformat_minor": 4
}
